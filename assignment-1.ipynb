{
 "cells": [
  {
   "cell_type": "markdown",
   "id": "b19c8e7d",
   "metadata": {
    "slideshow": {
     "slide_type": "slide"
    }
   },
   "source": [
    "# Assignment: Working with Dependency Graphs (Parses)\n",
    "\n",
    "The objective of the assignment is to learn how to work with dependency graphs by defining functions.\n",
    "\n",
    "Read [spaCy documentation on dependency parser](https://spacy.io/api/dependencyparser) to learn provided methods.\n",
    "\n",
    "Define functions to:\n",
    "- expract a path of dependency relations from the ROOT to a token\n",
    "- extract subtree of a dependents given a token\n",
    "- check if a given list of tokens (segment of a sentence) forms a subtree\n",
    "- identify head of a span, given its tokens\n",
    "- extract sentence subject, direct object and indirect object spans"
   ]
  },
  {
   "cell_type": "code",
   "execution_count": 9,
   "id": "763f244b",
   "metadata": {},
   "outputs": [],
   "source": [
    "import spacy\n",
    "\n",
    "nlp = spacy.load(\"en_core_web_sm\")"
   ]
  },
  {
   "cell_type": "code",
   "execution_count": 10,
   "id": "52ea4e7f",
   "metadata": {},
   "outputs": [
    {
     "output_type": "stream",
     "name": "stdout",
     "text": [
      "I\t\tnsubj\t\tsaw\t\tVERB\t\t[]\nsaw\t\tROOT\t\tsaw\t\tVERB\t\t[I, man, with, .]\nthe\t\tdet\t\tman\t\tNOUN\t\t[]\nman\t\tdobj\t\tsaw\t\tVERB\t\t[the]\nwith\t\tprep\t\tsaw\t\tVERB\t\t[telescope]\na\t\tdet\t\ttelescope\t\tNOUN\t\t[]\ntelescope\t\tpobj\t\twith\t\tADP\t\t[a]\n.\t\tpunct\t\tsaw\t\tVERB\t\t[]\n"
     ]
    }
   ],
   "source": [
    "example = 'I saw the man with a telescope.'\n",
    "doc = nlp(example)\n",
    "\n",
    "for token in doc:\n",
    "    print(\"{}\\t\\t{}\\t\\t{}\\t\\t{}\\t\\t{}\".format(token.text, token.dep_, token.head.text, token.head.pos_,\n",
    "            [child for child in token.children]))"
   ]
  },
  {
   "cell_type": "markdown",
   "id": "7bb92fdc",
   "metadata": {},
   "source": [
    "## Display dependencies"
   ]
  },
  {
   "cell_type": "code",
   "execution_count": 11,
   "id": "349c603c",
   "metadata": {},
   "outputs": [
    {
     "output_type": "display_data",
     "data": {
      "text/plain": "<IPython.core.display.HTML object>",
      "text/html": "<span class=\"tex2jax_ignore\"><svg xmlns=\"http://www.w3.org/2000/svg\" xmlns:xlink=\"http://www.w3.org/1999/xlink\" xml:lang=\"en\" id=\"a1e01f6a871d4154a4b77ef7622d4a94-0\" class=\"displacy\" width=\"1275\" height=\"399.5\" direction=\"ltr\" style=\"max-width: none; height: 399.5px; color: #000000; background: #ffffff; font-family: Arial; direction: ltr\">\n<text class=\"displacy-token\" fill=\"currentColor\" text-anchor=\"middle\" y=\"309.5\">\n    <tspan class=\"displacy-word\" fill=\"currentColor\" x=\"50\">I</tspan>\n    <tspan class=\"displacy-tag\" dy=\"2em\" fill=\"currentColor\" x=\"50\">PRON</tspan>\n</text>\n\n<text class=\"displacy-token\" fill=\"currentColor\" text-anchor=\"middle\" y=\"309.5\">\n    <tspan class=\"displacy-word\" fill=\"currentColor\" x=\"225\">saw</tspan>\n    <tspan class=\"displacy-tag\" dy=\"2em\" fill=\"currentColor\" x=\"225\">VERB</tspan>\n</text>\n\n<text class=\"displacy-token\" fill=\"currentColor\" text-anchor=\"middle\" y=\"309.5\">\n    <tspan class=\"displacy-word\" fill=\"currentColor\" x=\"400\">the</tspan>\n    <tspan class=\"displacy-tag\" dy=\"2em\" fill=\"currentColor\" x=\"400\">DET</tspan>\n</text>\n\n<text class=\"displacy-token\" fill=\"currentColor\" text-anchor=\"middle\" y=\"309.5\">\n    <tspan class=\"displacy-word\" fill=\"currentColor\" x=\"575\">man</tspan>\n    <tspan class=\"displacy-tag\" dy=\"2em\" fill=\"currentColor\" x=\"575\">NOUN</tspan>\n</text>\n\n<text class=\"displacy-token\" fill=\"currentColor\" text-anchor=\"middle\" y=\"309.5\">\n    <tspan class=\"displacy-word\" fill=\"currentColor\" x=\"750\">with</tspan>\n    <tspan class=\"displacy-tag\" dy=\"2em\" fill=\"currentColor\" x=\"750\">ADP</tspan>\n</text>\n\n<text class=\"displacy-token\" fill=\"currentColor\" text-anchor=\"middle\" y=\"309.5\">\n    <tspan class=\"displacy-word\" fill=\"currentColor\" x=\"925\">a</tspan>\n    <tspan class=\"displacy-tag\" dy=\"2em\" fill=\"currentColor\" x=\"925\">DET</tspan>\n</text>\n\n<text class=\"displacy-token\" fill=\"currentColor\" text-anchor=\"middle\" y=\"309.5\">\n    <tspan class=\"displacy-word\" fill=\"currentColor\" x=\"1100\">telescope.</tspan>\n    <tspan class=\"displacy-tag\" dy=\"2em\" fill=\"currentColor\" x=\"1100\">NOUN</tspan>\n</text>\n\n<g class=\"displacy-arrow\">\n    <path class=\"displacy-arc\" id=\"arrow-a1e01f6a871d4154a4b77ef7622d4a94-0-0\" stroke-width=\"2px\" d=\"M70,264.5 C70,177.0 215.0,177.0 215.0,264.5\" fill=\"none\" stroke=\"currentColor\"/>\n    <text dy=\"1.25em\" style=\"font-size: 0.8em; letter-spacing: 1px\">\n        <textPath xlink:href=\"#arrow-a1e01f6a871d4154a4b77ef7622d4a94-0-0\" class=\"displacy-label\" startOffset=\"50%\" side=\"left\" fill=\"currentColor\" text-anchor=\"middle\">nsubj</textPath>\n    </text>\n    <path class=\"displacy-arrowhead\" d=\"M70,266.5 L62,254.5 78,254.5\" fill=\"currentColor\"/>\n</g>\n\n<g class=\"displacy-arrow\">\n    <path class=\"displacy-arc\" id=\"arrow-a1e01f6a871d4154a4b77ef7622d4a94-0-1\" stroke-width=\"2px\" d=\"M420,264.5 C420,177.0 565.0,177.0 565.0,264.5\" fill=\"none\" stroke=\"currentColor\"/>\n    <text dy=\"1.25em\" style=\"font-size: 0.8em; letter-spacing: 1px\">\n        <textPath xlink:href=\"#arrow-a1e01f6a871d4154a4b77ef7622d4a94-0-1\" class=\"displacy-label\" startOffset=\"50%\" side=\"left\" fill=\"currentColor\" text-anchor=\"middle\">det</textPath>\n    </text>\n    <path class=\"displacy-arrowhead\" d=\"M420,266.5 L412,254.5 428,254.5\" fill=\"currentColor\"/>\n</g>\n\n<g class=\"displacy-arrow\">\n    <path class=\"displacy-arc\" id=\"arrow-a1e01f6a871d4154a4b77ef7622d4a94-0-2\" stroke-width=\"2px\" d=\"M245,264.5 C245,89.5 570.0,89.5 570.0,264.5\" fill=\"none\" stroke=\"currentColor\"/>\n    <text dy=\"1.25em\" style=\"font-size: 0.8em; letter-spacing: 1px\">\n        <textPath xlink:href=\"#arrow-a1e01f6a871d4154a4b77ef7622d4a94-0-2\" class=\"displacy-label\" startOffset=\"50%\" side=\"left\" fill=\"currentColor\" text-anchor=\"middle\">dobj</textPath>\n    </text>\n    <path class=\"displacy-arrowhead\" d=\"M570.0,266.5 L578.0,254.5 562.0,254.5\" fill=\"currentColor\"/>\n</g>\n\n<g class=\"displacy-arrow\">\n    <path class=\"displacy-arc\" id=\"arrow-a1e01f6a871d4154a4b77ef7622d4a94-0-3\" stroke-width=\"2px\" d=\"M245,264.5 C245,2.0 750.0,2.0 750.0,264.5\" fill=\"none\" stroke=\"currentColor\"/>\n    <text dy=\"1.25em\" style=\"font-size: 0.8em; letter-spacing: 1px\">\n        <textPath xlink:href=\"#arrow-a1e01f6a871d4154a4b77ef7622d4a94-0-3\" class=\"displacy-label\" startOffset=\"50%\" side=\"left\" fill=\"currentColor\" text-anchor=\"middle\">prep</textPath>\n    </text>\n    <path class=\"displacy-arrowhead\" d=\"M750.0,266.5 L758.0,254.5 742.0,254.5\" fill=\"currentColor\"/>\n</g>\n\n<g class=\"displacy-arrow\">\n    <path class=\"displacy-arc\" id=\"arrow-a1e01f6a871d4154a4b77ef7622d4a94-0-4\" stroke-width=\"2px\" d=\"M945,264.5 C945,177.0 1090.0,177.0 1090.0,264.5\" fill=\"none\" stroke=\"currentColor\"/>\n    <text dy=\"1.25em\" style=\"font-size: 0.8em; letter-spacing: 1px\">\n        <textPath xlink:href=\"#arrow-a1e01f6a871d4154a4b77ef7622d4a94-0-4\" class=\"displacy-label\" startOffset=\"50%\" side=\"left\" fill=\"currentColor\" text-anchor=\"middle\">det</textPath>\n    </text>\n    <path class=\"displacy-arrowhead\" d=\"M945,266.5 L937,254.5 953,254.5\" fill=\"currentColor\"/>\n</g>\n\n<g class=\"displacy-arrow\">\n    <path class=\"displacy-arc\" id=\"arrow-a1e01f6a871d4154a4b77ef7622d4a94-0-5\" stroke-width=\"2px\" d=\"M770,264.5 C770,89.5 1095.0,89.5 1095.0,264.5\" fill=\"none\" stroke=\"currentColor\"/>\n    <text dy=\"1.25em\" style=\"font-size: 0.8em; letter-spacing: 1px\">\n        <textPath xlink:href=\"#arrow-a1e01f6a871d4154a4b77ef7622d4a94-0-5\" class=\"displacy-label\" startOffset=\"50%\" side=\"left\" fill=\"currentColor\" text-anchor=\"middle\">pobj</textPath>\n    </text>\n    <path class=\"displacy-arrowhead\" d=\"M1095.0,266.5 L1103.0,254.5 1087.0,254.5\" fill=\"currentColor\"/>\n</g>\n</svg></span>"
     },
     "metadata": {}
    }
   ],
   "source": [
    "spacy.displacy.render(doc, style='dep')"
   ]
  },
  {
   "cell_type": "markdown",
   "id": "a18132f6",
   "metadata": {},
   "source": [
    "## Extract a path of dependency relations from the ROOT to a token"
   ]
  },
  {
   "cell_type": "code",
   "execution_count": 12,
   "id": "cb228c25",
   "metadata": {},
   "outputs": [
    {
     "output_type": "execute_result",
     "data": {
      "text/plain": [
       "{'I': ['ROOT', 'nsubj'],\n",
       " 'saw': ['ROOT'],\n",
       " 'the': ['ROOT', 'dobj', 'det'],\n",
       " 'man': ['ROOT', 'dobj'],\n",
       " 'with': ['ROOT', 'prep'],\n",
       " 'a': ['ROOT', 'prep', 'pobj', 'det'],\n",
       " 'telescope': ['ROOT', 'prep', 'pobj'],\n",
       " '.': ['ROOT', 'punct']}"
      ]
     },
     "metadata": {},
     "execution_count": 12
    }
   ],
   "source": [
    "def token_path_to_root(token, doc):\n",
    "    path = []\n",
    "    current = token\n",
    "\n",
    "    # jump from a token to its head until the root is reached, saving the path\n",
    "    while not current.dep_ == 'ROOT':\n",
    "        # add the token at the start of the list\n",
    "        path.insert(0, current.dep_)\n",
    "        current = current.head\n",
    "    \n",
    "    # add the root\n",
    "    path.insert(0, 'ROOT')\n",
    "    return path\n",
    "\n",
    "def sent_paths_to_root(sent):\n",
    "    doc = nlp(sent)\n",
    "    # for each token in doc get its path using token_path_to_root\n",
    "    paths = {token.text: token_path_to_root(token, doc) for token in doc}\n",
    "    return paths\n",
    "\n",
    "sent_paths_to_root(example)"
   ]
  },
  {
   "cell_type": "markdown",
   "id": "5cec896f",
   "metadata": {},
   "source": [
    "## Extract subtree of dependents given a token"
   ]
  },
  {
   "cell_type": "code",
   "execution_count": 13,
   "id": "07f8595b",
   "metadata": {},
   "outputs": [
    {
     "output_type": "execute_result",
     "data": {
      "text/plain": [
       "{'I': [I],\n",
       " 'saw': [I, saw, the, man, with, a, telescope, .],\n",
       " 'the': [the],\n",
       " 'man': [the, man],\n",
       " 'with': [with, a, telescope],\n",
       " 'a': [a],\n",
       " 'telescope': [a, telescope],\n",
       " '.': [.]}"
      ]
     },
     "metadata": {},
     "execution_count": 13
    }
   ],
   "source": [
    "def extract_subtrees(sent):\n",
    "    # for each token in the sentence get its subtree and convert it to a list\n",
    "    return {token.text: list(token.subtree) for token in nlp(sent)}\n",
    "\n",
    "extract_subtrees(example)"
   ]
  },
  {
   "cell_type": "markdown",
   "id": "ec0d4dee",
   "metadata": {},
   "source": [
    "## Check if a given list of tokens (segment of a sentence) forms a subtree"
   ]
  },
  {
   "cell_type": "code",
   "execution_count": 14,
   "id": "3e6f36e8",
   "metadata": {},
   "outputs": [
    {
     "output_type": "stream",
     "name": "stdout",
     "text": [
      "True\nFalse\n"
     ]
    }
   ],
   "source": [
    "def is_subtree(sent, words):\n",
    "    doc = nlp(sent)\n",
    "    \n",
    "    # find parsed tokens corresponding to the strings\n",
    "    tokens = sorted([tk for tk in doc for w in words if tk.text == w])\n",
    "    \n",
    "    for tk in tokens:\n",
    "        # check if the token list and the subtree list are equal\n",
    "        # to compare two lists they have to be sorted the same way\n",
    "        if sorted(tk.subtree) == tokens:\n",
    "            return True\n",
    "    return False\n",
    "\n",
    "print(is_subtree(example, ['telescope', 'a', 'with']))\n",
    "print(is_subtree(example, ['telescope', 'the']))"
   ]
  },
  {
   "cell_type": "markdown",
   "id": "560178ed",
   "metadata": {},
   "source": [
    "## Identify head of a span, given its tokens"
   ]
  },
  {
   "cell_type": "code",
   "execution_count": 15,
   "id": "82454849",
   "metadata": {},
   "outputs": [
    {
     "output_type": "execute_result",
     "data": {
      "text/plain": [
       "love"
      ]
     },
     "metadata": {},
     "execution_count": 15
    }
   ],
   "source": [
    "def head_of_span(words):\n",
    "    # convert words to a parsed span (a doc's sentence) and get its root\n",
    "    # use next() to get just the first sentence as the expected input shouldn't\n",
    "    # create more than one\n",
    "    return next(nlp(' '.join(words)).sents).root\n",
    "\n",
    "head_of_span(['I', 'really', 'love', 'pizza'])"
   ]
  },
  {
   "cell_type": "markdown",
   "id": "5529d5a2",
   "metadata": {},
   "source": [
    "## Extract sentence subject, direct object and indirect object spans"
   ]
  },
  {
   "cell_type": "code",
   "execution_count": 16,
   "id": "5663d5ac",
   "metadata": {},
   "outputs": [
    {
     "output_type": "execute_result",
     "data": {
      "text/plain": [
       "{'nsubj': [I], 'dobj': [the, man], 'iobj': []}"
      ]
     },
     "metadata": {},
     "execution_count": 16
    }
   ],
   "source": [
    "def extract_deps_span(sent):\n",
    "    doc = nlp(sent)\n",
    "    deps = ['nsubj', 'dobj', 'iobj']\n",
    "\n",
    "    # create dict of lists for each dependency\n",
    "    spans = {k: [] for k in deps}\n",
    "\n",
    "    # iterate over the dependency and all the tokens\n",
    "    for dep in deps:\n",
    "        for token in doc:\n",
    "            if token.dep_ == dep:\n",
    "                # if a dependency is found, add its subtree in list form to the dictionary\n",
    "                spans[dep] = list(token.subtree)\n",
    "\n",
    "    return spans\n",
    "\n",
    "extract_deps_span(example)"
   ]
  }
 ],
 "metadata": {
  "kernelspec": {
   "display_name": "Python 3",
   "language": "python",
   "name": "python3"
  },
  "language_info": {
   "codemirror_mode": {
    "name": "ipython",
    "version": 3
   },
   "file_extension": ".py",
   "mimetype": "text/x-python",
   "name": "python",
   "nbconvert_exporter": "python",
   "pygments_lexer": "ipython3",
   "version": "3.8.8-final"
  }
 },
 "nbformat": 4,
 "nbformat_minor": 5
}